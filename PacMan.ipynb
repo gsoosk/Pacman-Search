{
 "cells": [
  {
   "cell_type": "markdown",
   "metadata": {
    "toc": true
   },
   "source": [
    "<h1>Table of Contents<span class=\"tocSkip\"></span></h1>\n",
    "<div class=\"toc\"><ul class=\"toc-item\"><li><span><a href=\"#Reading-from-Files\" data-toc-modified-id=\"Reading-from-Files-1\"><span class=\"toc-item-num\">1&nbsp;&nbsp;</span>Reading from Files</a></span></li><li><span><a href=\"#Uninformed-Search\" data-toc-modified-id=\"Uninformed-Search-2\"><span class=\"toc-item-num\">2&nbsp;&nbsp;</span>Uninformed Search</a></span><ul class=\"toc-item\"><li><span><a href=\"#Creating-Uninformed-Pacman-World\" data-toc-modified-id=\"Creating-Uninformed-Pacman-World-2.1\"><span class=\"toc-item-num\">2.1&nbsp;&nbsp;</span>Creating Uninformed Pacman World</a></span></li><li><span><a href=\"#BFS\" data-toc-modified-id=\"BFS-2.2\"><span class=\"toc-item-num\">2.2&nbsp;&nbsp;</span>BFS</a></span></li><li><span><a href=\"#IDS\" data-toc-modified-id=\"IDS-2.3\"><span class=\"toc-item-num\">2.3&nbsp;&nbsp;</span>IDS</a></span></li></ul></li><li><span><a href=\"#Informed-Search\" data-toc-modified-id=\"Informed-Search-3\"><span class=\"toc-item-num\">3&nbsp;&nbsp;</span>Informed Search</a></span><ul class=\"toc-item\"><li><span><a href=\"#What-is-our-Heuristic?\" data-toc-modified-id=\"What-is-our-Heuristic?-3.1\"><span class=\"toc-item-num\">3.1&nbsp;&nbsp;</span>What is our Heuristic?</a></span></li><li><span><a href=\"#Why-this-Heuristic-is-Admissable?\" data-toc-modified-id=\"Why-this-Heuristic-is-Admissable?-3.2\"><span class=\"toc-item-num\">3.2&nbsp;&nbsp;</span>Why this Heuristic is Admissable?</a></span></li><li><span><a href=\"#Why-this-Heuristic-is-Consistent?\" data-toc-modified-id=\"Why-this-Heuristic-is-Consistent?-3.3\"><span class=\"toc-item-num\">3.3&nbsp;&nbsp;</span>Why this Heuristic is Consistent?</a></span></li><li><span><a href=\"#Astar-Search\" data-toc-modified-id=\"Astar-Search-3.4\"><span class=\"toc-item-num\">3.4&nbsp;&nbsp;</span>Astar Search</a></span></li></ul></li><li><span><a href=\"#Comparing-Algorithms\" data-toc-modified-id=\"Comparing-Algorithms-4\"><span class=\"toc-item-num\">4&nbsp;&nbsp;</span>Comparing Algorithms</a></span><ul class=\"toc-item\"><li><span><a href=\"#Compare-Tables\" data-toc-modified-id=\"Compare-Tables-4.1\"><span class=\"toc-item-num\">4.1&nbsp;&nbsp;</span>Compare Tables</a></span><ul class=\"toc-item\"><li><span><a href=\"#Testcase-1\" data-toc-modified-id=\"Testcase-1-4.1.1\"><span class=\"toc-item-num\">4.1.1&nbsp;&nbsp;</span>Testcase 1</a></span></li><li><span><a href=\"#Testcase-2\" data-toc-modified-id=\"Testcase-2-4.1.2\"><span class=\"toc-item-num\">4.1.2&nbsp;&nbsp;</span>Testcase 2</a></span></li><li><span><a href=\"#Testcase-3\" data-toc-modified-id=\"Testcase-3-4.1.3\"><span class=\"toc-item-num\">4.1.3&nbsp;&nbsp;</span>Testcase 3</a></span></li><li><span><a href=\"#Testcase-4\" data-toc-modified-id=\"Testcase-4-4.1.4\"><span class=\"toc-item-num\">4.1.4&nbsp;&nbsp;</span>Testcase 4</a></span></li><li><span><a href=\"#Testcase-5\" data-toc-modified-id=\"Testcase-5-4.1.5\"><span class=\"toc-item-num\">4.1.5&nbsp;&nbsp;</span>Testcase 5</a></span></li></ul></li><li><span><a href=\"#Comparing-Algorithms\" data-toc-modified-id=\"Comparing-Algorithms-4.2\"><span class=\"toc-item-num\">4.2&nbsp;&nbsp;</span>Comparing Algorithms</a></span><ul class=\"toc-item\"><li><span><a href=\"#Optimality\" data-toc-modified-id=\"Optimality-4.2.1\"><span class=\"toc-item-num\">4.2.1&nbsp;&nbsp;</span>Optimality</a></span></li><li><span><a href=\"#Time-Complexity\" data-toc-modified-id=\"Time-Complexity-4.2.2\"><span class=\"toc-item-num\">4.2.2&nbsp;&nbsp;</span>Time Complexity</a></span></li><li><span><a href=\"#Space-Complexity\" data-toc-modified-id=\"Space-Complexity-4.2.3\"><span class=\"toc-item-num\">4.2.3&nbsp;&nbsp;</span>Space Complexity</a></span></li></ul></li><li><span><a href=\"#Compare-Plots\" data-toc-modified-id=\"Compare-Plots-4.3\"><span class=\"toc-item-num\">4.3&nbsp;&nbsp;</span>Compare Plots</a></span></li></ul></li></ul></div>"
   ]
  },
  {
   "cell_type": "markdown",
   "metadata": {},
   "source": [
    "# AI Fall 98 - Computer Assignment 1 ( PacMan )\n",
    "**Farzad Habibi ( 810195383 )**\n",
    "\n",
    "\n",
    "Goal of this computer assignment is getting more familier with searching algorithms. From searching algorithms we will learn `BFS`, `IDS`, and `Astar Search`. All of these algorithms have an optimal answer but with different exectuion time. We compare these algorithm at last of this document."
   ]
  },
  {
   "cell_type": "code",
   "execution_count": 1,
   "metadata": {},
   "outputs": [],
   "source": [
    "import time # To calculate exec times.\n",
    "from collections import deque # It uses for BFS's frontier\n",
    "import math # To having inf. \n",
    "from queue import PriorityQueue # It uses for Astar's frontier\n",
    "import pandas as pd # For last table of documentation\n",
    "import matplotlib.pyplot as plt # For ploting\n",
    "import seaborn as sns # For Make Ploting Beautiful\n",
    "sns.set()"
   ]
  },
  {
   "cell_type": "markdown",
   "metadata": {},
   "source": [
    "## Reading from Files \n",
    "At first we create a class for reading from inputs(file / string of map). \n",
    "In this code we read from files and make a class to represent pacman world. These class have some methods :\n",
    "* to read from input file\n",
    "* to convert 1d position to it's 2d position in map.\n",
    "* to convert 2d position to it's 1d position\n",
    "* to check state of our world and see that it is goal state or not\n",
    "* to find and store agent positions"
   ]
  },
  {
   "cell_type": "code",
   "execution_count": 2,
   "metadata": {},
   "outputs": [],
   "source": [
    "class PacmanWorld :\n",
    "    def __init__(self, input_data, file=False):\n",
    "        if file :\n",
    "            self.file_path = input_data\n",
    "            self.read_input()\n",
    "        else :\n",
    "            self.data = input_data\n",
    "        self.ncols = self.data.find('\\n')\n",
    "        self.find_agents_pos()\n",
    "        \n",
    "\n",
    "    def read_input(self):\n",
    "        self.data = ''\n",
    "        with open (self.file_path, \"r\") as myfile:\n",
    "            self.data=myfile.read()\n",
    "    \n",
    "    def is_it_goal(self):\n",
    "        return self.data.find('1') < 0 and self.data.find('2') < 0 and self.data.find('3') < 0\n",
    "    \n",
    "    def get_data(self):\n",
    "        return self.data\n",
    "    \n",
    "    def change_2d_to_1d(self, x, y):\n",
    "        return x*(self.ncols+1) + y\n",
    "    \n",
    "    def change_1d_to_2d(self, i):\n",
    "        x = int(i / (self.ncols + 1))\n",
    "        y = i - (self.ncols + 1) * x\n",
    "        return x, y\n",
    "        \n",
    "\n",
    "    def index_2d(self, search):\n",
    "        return self.change_1d_to_2d(self.data.find(search))\n",
    "    \n",
    "    def find_agents_pos(self):\n",
    "        self.p_i, self.p_j = self.index_2d('P')\n",
    "        self.q_i, self.q_j = self.index_2d('Q')\n",
    "\n",
    "    def print(self):\n",
    "        print(self.data)"
   ]
  },
  {
   "cell_type": "markdown",
   "metadata": {},
   "source": [
    "So we can make our world by file path input and see it's values like data and agents position :"
   ]
  },
  {
   "cell_type": "code",
   "execution_count": 3,
   "metadata": {},
   "outputs": [
    {
     "name": "stdout",
     "output_type": "stream",
     "text": [
      "%%%%%%\n",
      "%   1%\n",
      "%    %\n",
      "%   P%\n",
      "%% %%%\n",
      "%   3%\n",
      "%1   %\n",
      "%%% %%\n",
      "%3  Q%\n",
      "%%%%%%\n",
      "Agent P position is 3, 4 and Agent Q position is 8, 4\n"
     ]
    }
   ],
   "source": [
    "world = PacmanWorld('./tests/test2', file=True)\n",
    "world.print()\n",
    "print(f'Agent P position is {world.p_i}, {world.p_j} and Agent Q position is {world.q_i}, {world.q_j}')"
   ]
  },
  {
   "cell_type": "markdown",
   "metadata": {},
   "source": [
    "**IN** this class, I didn't change map data from string to other data structures like 2d array. Because it got more time to find agents and other processes.  "
   ]
  },
  {
   "cell_type": "markdown",
   "metadata": {},
   "source": [
    "## Uninformed Search"
   ]
  },
  {
   "cell_type": "markdown",
   "metadata": {},
   "source": [
    "### Creating Uninformed Pacman World\n",
    "In this kind of solution, our world is a little difference from first definition of `PacmanWorld`. We should get all feasible actions which every agent can make; therefore, we define a new world for this kind of solution which inherited our first world.\n",
    "\n",
    "This class has a main method named `get_feasible_actions` which got all agent P and agent Q actions that they can made. It uses other methods (like `move` and `check_pos`) to implement this goal. "
   ]
  },
  {
   "cell_type": "code",
   "execution_count": 4,
   "metadata": {},
   "outputs": [],
   "source": [
    "class UninformedPacmanWorld(PacmanWorld):\n",
    "    def __init__(self, input_file_path, file=False):\n",
    "        super().__init__(input_file_path, file)\n",
    "\n",
    "    def check_pos(self, agent, i, j):\n",
    "        if i < 0 and j < 0 : \n",
    "            return False\n",
    "        index = self.change_2d_to_1d(i, j)\n",
    "        if agent == 'P' and ( self.data[index] == 'Q' or self.data[index] == '2' ) :\n",
    "            return False\n",
    "        if agent == 'Q' and ( self.data[index] == 'P' or self.data[index] == '1' ) :\n",
    "            return False     \n",
    "        return False if self.data[index] == '%' else True\n",
    "    \n",
    "    def move(self, agent, i, j):\n",
    "        (x, y) = (self.p_i, self.p_j) if agent == 'P' else (self.q_i, self.q_j)\n",
    "        index_first = x*(self.ncols+1) + y\n",
    "        index_sec = i*(self.ncols+1) + j\n",
    "        new = self.data[:index_first] + ' ' + self.data[index_first+1:]\n",
    "        return new[:index_sec] + agent + new[index_sec+1:]\n",
    "        \n",
    "        \n",
    "    def get_feasible_actions_for(self, agent):\n",
    "        actions = []\n",
    "        (i, j) = (self.p_i, self.p_j) if agent == 'P' else (self.q_i, self.q_j)\n",
    "        if self.check_pos(agent, i+1, j) : actions.append(self.move(agent, i+1, j))\n",
    "        if self.check_pos(agent, i, j+1) : actions.append(self.move(agent, i, j+1))\n",
    "        if self.check_pos(agent, i-1, j) : actions.append(self.move(agent, i-1, j))\n",
    "        if self.check_pos(agent, i, j-1) : actions.append(self.move(agent, i, j-1))\n",
    "        return actions\n",
    "        \n",
    "    def get_feasible_actions(self):\n",
    "        return self.get_feasible_actions_for('P') + self.get_feasible_actions_for('Q')\n"
   ]
  },
  {
   "cell_type": "code",
   "execution_count": 5,
   "metadata": {},
   "outputs": [],
   "source": [
    "ui_world = UninformedPacmanWorld('./tests/test1', file=True)"
   ]
  },
  {
   "cell_type": "markdown",
   "metadata": {},
   "source": [
    "With this class we can get all possible actions like this :"
   ]
  },
  {
   "cell_type": "code",
   "execution_count": 6,
   "metadata": {},
   "outputs": [
    {
     "name": "stdout",
     "output_type": "stream",
     "text": [
      "%%%%%%%%%%%%%\n",
      "%    %2%    %\n",
      "%   3Q      %\n",
      "% %%%%% %%%%%\n",
      "%1      % % %\n",
      "%%% %%  %1% %\n",
      "%    %    % %\n",
      "%3      %   %\n",
      "% % %%%P %% %\n",
      "%   %1      %\n",
      "%%%%%%%%%%%%%\n",
      "%%%%%%%%%%%%%\n",
      "%    %2%    %\n",
      "%   3Q      %\n",
      "% %%%%% %%%%%\n",
      "%1      % % %\n",
      "%%% %%  %1% %\n",
      "%    % P  % %\n",
      "%3      %   %\n",
      "% % %%%  %% %\n",
      "%   %1      %\n",
      "%%%%%%%%%%%%%\n",
      "%%%%%%%%%%%%%\n",
      "%    %2%    %\n",
      "%   3Q      %\n",
      "% %%%%% %%%%%\n",
      "%1      % % %\n",
      "%%% %%  %1% %\n",
      "%    %    % %\n",
      "%3    P %   %\n",
      "% % %%%  %% %\n",
      "%   %1      %\n",
      "%%%%%%%%%%%%%\n",
      "%%%%%%%%%%%%%\n",
      "%    %2%    %\n",
      "%   3 Q     %\n",
      "% %%%%% %%%%%\n",
      "%1      % % %\n",
      "%%% %%  %1% %\n",
      "%    %    % %\n",
      "%3     P%   %\n",
      "% % %%%  %% %\n",
      "%   %1      %\n",
      "%%%%%%%%%%%%%\n",
      "%%%%%%%%%%%%%\n",
      "%    %2%    %\n",
      "%   Q       %\n",
      "% %%%%% %%%%%\n",
      "%1      % % %\n",
      "%%% %%  %1% %\n",
      "%    %    % %\n",
      "%3     P%   %\n",
      "% % %%%  %% %\n",
      "%   %1      %\n",
      "%%%%%%%%%%%%%\n"
     ]
    }
   ],
   "source": [
    "for e in ui_world.get_feasible_actions(): \n",
    "    print(e)"
   ]
  },
  {
   "cell_type": "markdown",
   "metadata": {},
   "source": [
    "### BFS\n"
   ]
  },
  {
   "cell_type": "markdown",
   "metadata": {},
   "source": [
    "For running `BFS` algorithm at first we make our test world (here I used `ui_world` which ran test1 as initial world). \n",
    "Then our algorithm started to run. \n",
    "\n",
    "This algorithm has a queue as it's frontier and a set as it's explored. \n",
    "* At first we add intial state into frontier and then pop it from the queue. \n",
    "* Then all possible actions from initial values which does not explored before, will add to the frontier \n",
    "* and next we will redo these steps until we find goal state.\n",
    "\n",
    "`BFS` is an optimal search algotrithm."
   ]
  },
  {
   "cell_type": "code",
   "execution_count": 7,
   "metadata": {},
   "outputs": [],
   "source": [
    "def bfs(initial_state):\n",
    "    \"\"\" \n",
    "    A function to compute bfs for an uninformal world.\n",
    "\n",
    "    Parameters: \n",
    "        initial_state (UninformalPacmanWorld): inital world\n",
    "\n",
    "    Returns: \n",
    "        move_num: number of moves to get goal\n",
    "        total_move: number of all states which had seen during run\n",
    "        total_seperate_moves : number of seperate state which seen. here it is like total move\n",
    "        ans: final answer UniformalPacmanWorld\n",
    "    \"\"\"\n",
    "    move_num = 0\n",
    "    total_move = 1\n",
    "    node = initial_state\n",
    "    if node.is_it_goal(): return move_num, node\n",
    "    frontier = deque([node.data])\n",
    "    frontier_depth = deque([0])\n",
    "    explored = set([node.data])\n",
    "    while True : \n",
    "        if len(frontier) == 0: return -1, -1, -1, None\n",
    "        node = UninformedPacmanWorld(frontier.popleft())\n",
    "        move_num = frontier_depth.popleft() + 1\n",
    "        for action in node.get_feasible_actions():\n",
    "            if  not action in explored :\n",
    "                child = UninformedPacmanWorld(action)\n",
    "                if child.is_it_goal(): return move_num, total_move, total_move, child\n",
    "                frontier.append(child.get_data())\n",
    "                total_move += 1\n",
    "                frontier_depth.append(move_num)\n",
    "                explored.add(child.data)"
   ]
  },
  {
   "cell_type": "markdown",
   "metadata": {},
   "source": [
    "For example we run this algorithm on an `UninformedWorld`."
   ]
  },
  {
   "cell_type": "code",
   "execution_count": 8,
   "metadata": {
    "scrolled": false
   },
   "outputs": [
    {
     "name": "stdout",
     "output_type": "stream",
     "text": [
      "%%%%%%%%%%%%%\n",
      "%    %Q%    %\n",
      "%           %\n",
      "% %%%%% %%%%%\n",
      "%P      % % %\n",
      "%%% %%  % % %\n",
      "%    %    % %\n",
      "%       %   %\n",
      "% % %%%  %% %\n",
      "%   %       %\n",
      "%%%%%%%%%%%%%\n"
     ]
    }
   ],
   "source": [
    "ui_world = UninformedPacmanWorld('./tests/test1', file=True)\n",
    "start = time.time() \n",
    "moves, total_moves, total_seperate_moves, ans = bfs(ui_world)\n",
    "end = time.time()\n",
    "ans.print()"
   ]
  },
  {
   "cell_type": "code",
   "execution_count": 9,
   "metadata": {},
   "outputs": [
    {
     "name": "stdout",
     "output_type": "stream",
     "text": [
      "Total time is 3.8838019371032715\n",
      "Total moves for finding answer is 140672\n",
      "Total seperate moves for finding answer is 140672\n",
      "Number of moves to got the answer is 33\n"
     ]
    }
   ],
   "source": [
    "print(f'Total time is {end - start}')\n",
    "print(f'Total moves for finding answer is {total_moves}')\n",
    "print(f'Total seperate moves for finding answer is {total_seperate_moves}')\n",
    "print(f'Number of moves to got the answer is {moves}')"
   ]
  },
  {
   "cell_type": "markdown",
   "metadata": {},
   "source": [
    "As you see this algorithm has a small execution time for this number of state. At my first try, it had more execution time and I started to change my data structures into string instead of 2d array. This move save a lot of time for me in this algorithm. "
   ]
  },
  {
   "cell_type": "markdown",
   "metadata": {},
   "source": [
    "### IDS"
   ]
  },
  {
   "cell_type": "markdown",
   "metadata": {},
   "source": [
    "For running `IDS` algorithm at first we make class named `ExploredNode` to add into explored set. Why we make this class? because in ids algorithm it is possible to see a repeated state but in less depth; therefore, we should add depth also in explored set. But if we just use a tuple in set we should explore a lots of more paths. We should just adds nodes which have less depth not all nodes with different depth. In that situation our execution time got more.\n"
   ]
  },
  {
   "cell_type": "code",
   "execution_count": 10,
   "metadata": {},
   "outputs": [],
   "source": [
    "class ExploredNode():\n",
    "    def __init__(self, depth, data):\n",
    "        self.depth = depth\n",
    "        self.data = data\n",
    "    def __hash__(self):\n",
    "        return hash((self.data))\n",
    "    def __eq__(self, other):\n",
    "        return self.data == other.data and self.depth <= other.depth"
   ]
  },
  {
   "cell_type": "markdown",
   "metadata": {},
   "source": [
    "For example if we have a set of these nodes :"
   ]
  },
  {
   "cell_type": "code",
   "execution_count": 11,
   "metadata": {},
   "outputs": [],
   "source": [
    "s = set([ExploredNode(5, 'a')])"
   ]
  },
  {
   "cell_type": "markdown",
   "metadata": {},
   "source": [
    "It seems all nodes with bigger depth is in that set :"
   ]
  },
  {
   "cell_type": "code",
   "execution_count": 12,
   "metadata": {},
   "outputs": [
    {
     "data": {
      "text/plain": [
       "True"
      ]
     },
     "execution_count": 12,
     "metadata": {},
     "output_type": "execute_result"
    }
   ],
   "source": [
    "ExploredNode(10, 'a') in s"
   ]
  },
  {
   "cell_type": "markdown",
   "metadata": {},
   "source": [
    "In `IDS` algorithm, at first we make our test world (here I used `ui_world` which ran test1 as initial world). \n",
    "Then our algorithm started to run. \n",
    "\n",
    "This algorithm has a stack as it's frontier (we used dequeue data structre and it's pop method) and a set (set of `ExploredNode`) as it's explored. \n",
    "* We have a loop to increas depth in every iteration of it. Actualy at every iteration we increase depth and run inner loop which is a limited dfs. \n",
    "* At every itteration we reset all of data structures to initial values.\n",
    "* In limited dfs : \n",
    "    * We pop first node from stack\n",
    "    * If it's depth is our limit we didn't add it's children to frontier\n",
    "    * Else we add chidlren to frontier\n",
    "\n",
    "This `IDS` is an optimal search algotrithm."
   ]
  },
  {
   "cell_type": "code",
   "execution_count": 13,
   "metadata": {},
   "outputs": [],
   "source": [
    "def ids(initial_state):\n",
    "    \"\"\" \n",
    "    A function to compute ids for an uninformal world.\n",
    "\n",
    "    Parameters: \n",
    "        initial_state (UninformalPacmanWorld): inital world\n",
    "\n",
    "    Returns: \n",
    "        move_num: number of moves to get goal\n",
    "        total_move: number of all states which had seen during run\n",
    "        total_seperate_moves : number of seperate state which seen\n",
    "        ans: final answer UniformalPacmanWorld\n",
    "    \"\"\"\n",
    "    if initial_state.is_it_goal(): return 0, 0, 0, node\n",
    "    depth = 0\n",
    "    exit = False\n",
    "    total_move_num = 1\n",
    "    while not exit:\n",
    "        total_seperate_moves = 1\n",
    "        frontier = deque([initial_state.data])\n",
    "        frontier_depth = [0]\n",
    "        explored = set([ExploredNode(0, initial_state.data)])\n",
    "        depth += 1\n",
    "        while True:\n",
    "            if len(frontier) == 0 : break # Depth explored\n",
    "            node = UninformedPacmanWorld(frontier.pop())\n",
    "            curr_depth = frontier_depth.pop()\n",
    "            if curr_depth >= depth : continue \n",
    "            for action in reversed(node.get_feasible_actions()):\n",
    "                if not ExploredNode(curr_depth+1, action) in explored:\n",
    "                    total_move_num += 1\n",
    "                    if not ExploredNode(math.inf, action) in explored : total_seperate_moves += 1\n",
    "                    child = UninformedPacmanWorld(action)\n",
    "                    if child.is_it_goal(): return curr_depth+1,total_move_num, total_seperate_moves, child\n",
    "                    explored.add(ExploredNode(curr_depth+1, action))\n",
    "                    frontier.append(child.data)\n",
    "                    frontier_depth.append(curr_depth + 1)"
   ]
  },
  {
   "cell_type": "markdown",
   "metadata": {},
   "source": [
    "For example we run this algorithm on an `UninformedWorld`."
   ]
  },
  {
   "cell_type": "code",
   "execution_count": 14,
   "metadata": {
    "scrolled": false
   },
   "outputs": [
    {
     "name": "stdout",
     "output_type": "stream",
     "text": [
      "%%%%%%%%%%%%%\n",
      "%    %Q%    %\n",
      "%           %\n",
      "% %%%%% %%%%%\n",
      "%P      % % %\n",
      "%%% %%  % % %\n",
      "%    %    % %\n",
      "%       %   %\n",
      "% % %%%  %% %\n",
      "%   %       %\n",
      "%%%%%%%%%%%%%\n"
     ]
    }
   ],
   "source": [
    "ui_world = UninformedPacmanWorld('./tests/test1', file=True)\n",
    "start = time.time() \n",
    "moves, total_moves, total_seperate_moves, ans = ids(ui_world)\n",
    "ans.print()\n",
    "end = time.time()"
   ]
  },
  {
   "cell_type": "code",
   "execution_count": 15,
   "metadata": {},
   "outputs": [
    {
     "name": "stdout",
     "output_type": "stream",
     "text": [
      "Total time is 153.98135709762573\n",
      "Total moves for finding answer is 4593008\n",
      "Total seperate moves for finding answer is 105105\n",
      "Number of moves to got the answer is 33\n"
     ]
    }
   ],
   "source": [
    "print(f'Total time is {end - start}')\n",
    "print(f'Total moves for finding answer is {total_moves}')\n",
    "print(f'Total seperate moves for finding answer is {total_seperate_moves}')\n",
    "print(f'Number of moves to got the answer is {moves}')"
   ]
  },
  {
   "cell_type": "markdown",
   "metadata": {},
   "source": [
    "## Informed Search"
   ]
  },
  {
   "cell_type": "markdown",
   "metadata": {},
   "source": [
    "For our Informed world we create a new class which have some extra method from uninformed world. This class (`InformedPacmanWorld`) has some methods to compute heuristic of the world."
   ]
  },
  {
   "cell_type": "code",
   "execution_count": 16,
   "metadata": {},
   "outputs": [],
   "source": [
    "import math\n",
    "class InformedPacmanWorld(UninformedPacmanWorld):\n",
    "    def __init__(self, input_file_path, file=False):\n",
    "        super().__init__(input_file_path, file)\n",
    "        \n",
    "    def find_food(self, food):\n",
    "        x = []\n",
    "        begin = 0\n",
    "        while begin < len(self.data):\n",
    "            begin = self.data.find(food, begin+1)\n",
    "            if begin == -1 :\n",
    "                break;\n",
    "            x.append(begin)\n",
    "        return x\n",
    "\n",
    "    def find_foods(self):\n",
    "        self.ps_foods = [self.change_1d_to_2d(x) for x in self.find_food('1') + self.find_food('3')]\n",
    "        self.qs_foods = [self.change_1d_to_2d(x) for x in self.find_food('2') + self.find_food('3')]\n",
    "        \n",
    "    def find_min_manhatan(self, x, y, l):\n",
    "        min_manhatan = math.inf\n",
    "        for i in l:\n",
    "            manhatan_distance = abs(i[0] - x) + abs(i[1] - y)\n",
    "            if manhatan_distance < min_manhatan :\n",
    "                min_manhatan = manhatan_distance\n",
    "        return min_manhatan\n",
    "\n",
    "    def manhatan_heuristic(self):\n",
    "        self.find_foods()\n",
    "        number_of_foods = len(self.ps_foods) + len(self.qs_foods)\n",
    "        numner_of_foods = number_of_foods - 1 if number_of_foods >= 1 else 0\n",
    "        return min(self.find_min_manhatan(self.p_i, self.p_j, self.ps_foods),\n",
    "                   self.find_min_manhatan(self.q_i, self.q_j, self.qs_foods)) + int((number_of_foods)/2)"
   ]
  },
  {
   "cell_type": "markdown",
   "metadata": {},
   "source": [
    "### What is our Heuristic?\n",
    "Our heueristic is `minimum manhatan distance from all foods + [number of remained food after eating nearest food / 2]` .\n",
    "\n",
    "We will compute it in `manhatan_heuristic` method of `InformedPacmanWorld` class. In this method, first we find all of world foods position, then find number of all foods. After that we returns minimum  computation of heuristic from P foods and Q foods + number of remained foods / 2 "
   ]
  },
  {
   "cell_type": "markdown",
   "metadata": {},
   "source": [
    "### Why this Heuristic is Admissable?\n",
    "This heuristic is admissable. Assume that our minimum manhatan distance to all food be `min(x)` and `x` be the nearest food. Also assume that `n` be number of all remaning foods after eating x. \n",
    "\n",
    "From definition a heuristic is addmisable that $h(n) \\leq g(n) $ which $h(n)$ is heuristic of state and $g(n)$ is actual path cost to goal.  \n",
    "\n",
    "**PROVE:** Mininmum path from our state to goal is `min(x) + n` which is eating x by exploring min(x) in one path and eating n other foods with just one move for every of them; beside, our heuristic is `min(x) + n/2` which always is less than equal to minimum path. "
   ]
  },
  {
   "cell_type": "markdown",
   "metadata": {},
   "source": [
    "### Why this Heuristic is Consistent?\n",
    "This heuristic is also consistent. Assume above symbols. \n",
    "\n",
    "From definition a heuristic is consistent if we have a state `C` after state `A` real cost of A to C be greater than equal of cost that implied by heuristics. \n",
    "$cost(AtoC) \\geq h(A) - h(C)$\n",
    "\n",
    "**PROVE:** Worst case happend when in state `C` and `A`, agent goes manhatan distance to got `C`. We can assume `min(x1)` as manhatan distance of first move(state A), and `min(x2)` as manhatan distance of second move(state C).\n",
    "\n",
    "We should prove that :\n",
    "$$\n",
    "cost(AtoC) \\geq h(A) - h(C)\n",
    "$$\n",
    "\n",
    "We have : \n",
    "$$\n",
    "h(A) = min(x_1) + \\lfloor \\frac{n}{2} \\rfloor\n",
    "$$\n",
    "\n",
    "$$\n",
    "h(C) = min(x_2) + \\lfloor \\frac{n-1}{2} \\rfloor\n",
    "$$\n",
    "\n",
    "$$\n",
    "cost(AtoC) = min(x_1)\n",
    "$$\n",
    "\n",
    "So for this eqution we have : \n",
    "$$\n",
    "h(A) - h(C) = min(x_1) + \\lfloor \\frac{n}{2} \\rfloor - min(x_2) - \\lfloor \\frac{n-1}{2} \\rfloor \n",
    "\\begin{equation*}\n",
    " = \\begin{cases}\n",
    "             min(x_1) - min(x_2)   & \\text{if } n = 0 \\text{ or } n \\text{ is odd } \\\\\n",
    "             min(x_1) - min(x_2) + 1  & \\text{if } n \\neq 0 \\text{ and } n \\text{ is even }\n",
    "       \\end{cases} \\quad\n",
    "\\end{equation*}\n",
    "$$\n",
    "\n",
    "\n",
    "$$\n",
    "cost(AtoC) = min(x_1)\n",
    "$$\n",
    "\n",
    "From this we can recognize from above equetions that bellow assignment should  always be less than equal of `zero` which it always is.\n",
    "$$\n",
    "\\begin{equation*}\n",
    " 0 \\geq \\begin{cases}\n",
    "             - min(x_2)   & \\text{if } n = 0 \\text{ or } n \\text{ is odd } \\\\\n",
    "             - min(x_2) + 1  & \\text{if } n \\neq 0 \\text{ and } n \\text{ is even }\n",
    "       \\end{cases} \\quad\n",
    "\\end{equation*}\n",
    "$$"
   ]
  },
  {
   "cell_type": "markdown",
   "metadata": {},
   "source": [
    "### Astar Search\n",
    "This algorithm is very similar to `BFS` algorithm, but it uses a priority queue as it's frontier instead. At first we make our test world (here I used `ui_world` which ran test1 as initial world). \n",
    "Then our algorithm started to run. \n",
    "\n",
    "This algorithm has a priority queue as it's frontier and a set as it's explored. It also use f(state) which is h(s) + cost_to(s) as priority of every node in queue.\n",
    "* At first we add intial state into frontier and then pop it from the queue. \n",
    "* Then all possible actions from initial values which does not explored before, will add to the frontier \n",
    "* and next we will redo these steps until we find goal state.\n",
    "\n",
    "This `Astar` search is an optimal search algotrithm. Becasue it uses an admissable and consistent heuristic."
   ]
  },
  {
   "cell_type": "code",
   "execution_count": 17,
   "metadata": {},
   "outputs": [],
   "source": [
    "def A_star(initial_state):\n",
    "    \"\"\" \n",
    "    A function to compute ids for an informal world.\n",
    "\n",
    "    Parameters: \n",
    "        initial_state (InformalPacmanWorld): inital world\n",
    "\n",
    "    Returns: \n",
    "        move_num: number of moves to get goal\n",
    "        total_move: number of all states which had seen during run\n",
    "        total_seperate_moves : number of seperate state which seen\n",
    "        ans: final answer InformalPacmanWorld\n",
    "    \"\"\"\n",
    "    move_num = 0\n",
    "    total_move = 1\n",
    "    total_seperate_moves = 1\n",
    "    node = initial_state\n",
    "    if node.is_it_goal(): return move_num, node\n",
    "    frontier = PriorityQueue()\n",
    "    frontier.put((0+initial_state.manhatan_heuristic(), initial_state.data, 0)) # f(n), data, path_cost\n",
    "    explored = set([ExploredNode(0, node.data)])\n",
    "    while True : \n",
    "        if frontier.empty(): return -1, -1, -1, None\n",
    "        state = frontier.get()\n",
    "        node = UninformedPacmanWorld(state[1])\n",
    "        path_cost = state[2]\n",
    "        for action in node.get_feasible_actions():\n",
    "            if  not ExploredNode(path_cost+1, action) in explored :\n",
    "                total_move += 1\n",
    "                if not ExploredNode(math.inf, action) in explored : total_seperate_moves += 1\n",
    "                child = InformedPacmanWorld(action)\n",
    "                if child.is_it_goal(): return path_cost+1, total_move, total_seperate_moves, child\n",
    "                frontier.put(((path_cost+1)+child.manhatan_heuristic(), child.data, path_cost+1))\n",
    "                explored.add(ExploredNode(path_cost+1, child.data))"
   ]
  },
  {
   "cell_type": "code",
   "execution_count": 18,
   "metadata": {},
   "outputs": [
    {
     "name": "stdout",
     "output_type": "stream",
     "text": [
      "%%%%%%%%%%%%%\n",
      "%    %Q%    %\n",
      "%           %\n",
      "% %%%%% %%%%%\n",
      "%P      % % %\n",
      "%%% %%  % % %\n",
      "%    %    % %\n",
      "%       %   %\n",
      "% % %%%  %% %\n",
      "%   %       %\n",
      "%%%%%%%%%%%%%\n"
     ]
    }
   ],
   "source": [
    "i_world = InformedPacmanWorld('./tests/test1', file=True)\n",
    "start = time.time() \n",
    "moves, total_moves, total_seperate_moves, ans = A_star(i_world)\n",
    "ans.print()\n",
    "end = time.time()"
   ]
  },
  {
   "cell_type": "code",
   "execution_count": 19,
   "metadata": {},
   "outputs": [
    {
     "name": "stdout",
     "output_type": "stream",
     "text": [
      "Total time is 5.396594762802124\n",
      "Total moves for finding answer is 105787\n",
      "Total seperate moves for finding answer is 105706\n",
      "Number of moves to got the answer is 33\n"
     ]
    }
   ],
   "source": [
    "print(f'Total time is {end - start}')\n",
    "print(f'Total moves for finding answer is {total_moves}')\n",
    "print(f'Total seperate moves for finding answer is {total_seperate_moves}')\n",
    "print(f'Number of moves to got the answer is {moves}')"
   ]
  },
  {
   "cell_type": "markdown",
   "metadata": {},
   "source": [
    "As you see it got answer in less state. But execution time is a little more becasue of heuristic computing overhead. "
   ]
  },
  {
   "cell_type": "markdown",
   "metadata": {},
   "source": [
    "## Comparing Algorithms"
   ]
  },
  {
   "cell_type": "markdown",
   "metadata": {},
   "source": [
    "\n",
    "### Compare Tables\n",
    "At First we run every testcase and compute all variables into a pandas data frame. These variables are `Answer Cost`, `Total Seen States`, `Total Seperate Seen States`, and `Execution Time`."
   ]
  },
  {
   "cell_type": "code",
   "execution_count": 20,
   "metadata": {},
   "outputs": [],
   "source": [
    "sample_table = pd.DataFrame([], index=['BFS','IDS', 'A*Search'],\n",
    "                     columns=['Answer Cost', 'Total Seen States', 'Total Seperate Seen States', 'Execution Time'])\n"
   ]
  },
  {
   "cell_type": "code",
   "execution_count": 21,
   "metadata": {},
   "outputs": [],
   "source": [
    "test_cases_path = ['./tests/test1', './tests/test2', './tests/test3', './tests/test4', './tests/test5']\n",
    "all_tables = []\n",
    "\n",
    "def run_alg_in_3_itteration(alg, input_world):\n",
    "    mean_time, total_states, total_seperate_states, moves_num = 0, 0, 0, 0;\n",
    "    for i in range(0, 3):\n",
    "        ui_world = UninformedPacmanWorld(test_case_path, file=True)\n",
    "        start = time.time()\n",
    "        moves_num, total_states, total_seperate_states, ans = alg(input_world)\n",
    "        end = time.time()\n",
    "        mean_time += end - start\n",
    "    return moves_num, total_states, total_seperate_states, mean_time/3\n",
    "\n",
    "for test_case_path in test_cases_path:\n",
    "    table = sample_table.copy()\n",
    "    ui_world = UninformedPacmanWorld(test_case_path, file=True)\n",
    "    i_world = InformedPacmanWorld(test_case_path, file=True)\n",
    "    # Running BFS\n",
    "    mean_time, total_states, total_seperate_states, moves_num = run_alg_in_3_itteration(bfs, ui_world)\n",
    "    table.loc['BFS']['Answer Cost'] = mean_time\n",
    "    table.loc['BFS']['Total Seen States'] = total_states\n",
    "    table.loc['BFS']['Total Seperate Seen States'] = total_seperate_states \n",
    "    table.loc['BFS']['Execution Time'] = moves_num\n",
    "    # Running IDS\n",
    "    mean_time, total_states, total_seperate_states, moves_num = run_alg_in_3_itteration(ids, ui_world)\n",
    "    table.loc['IDS']['Answer Cost'] = mean_time\n",
    "    table.loc['IDS']['Total Seen States'] = total_states\n",
    "    table.loc['IDS']['Total Seperate Seen States'] = total_seperate_states \n",
    "    table.loc['IDS']['Execution Time'] = moves_num\n",
    "    # Running A*Search\n",
    "    mean_time, total_states, total_seperate_states, moves_num = run_alg_in_3_itteration(A_star, i_world)\n",
    "    table.loc['A*Search']['Answer Cost'] = mean_time\n",
    "    table.loc['A*Search']['Total Seen States'] = total_states\n",
    "    table.loc['A*Search']['Total Seperate Seen States'] = total_seperate_states # Its like total states in bfs\n",
    "    table.loc['A*Search']['Execution Time'] = moves_num\n",
    "    all_tables.append(table)"
   ]
  },
  {
   "cell_type": "markdown",
   "metadata": {},
   "source": [
    "#### Testcase 1"
   ]
  },
  {
   "cell_type": "code",
   "execution_count": 22,
   "metadata": {},
   "outputs": [
    {
     "data": {
      "text/html": [
       "<div>\n",
       "<style scoped>\n",
       "    .dataframe tbody tr th:only-of-type {\n",
       "        vertical-align: middle;\n",
       "    }\n",
       "\n",
       "    .dataframe tbody tr th {\n",
       "        vertical-align: top;\n",
       "    }\n",
       "\n",
       "    .dataframe thead th {\n",
       "        text-align: right;\n",
       "    }\n",
       "</style>\n",
       "<table border=\"1\" class=\"dataframe\">\n",
       "  <thead>\n",
       "    <tr style=\"text-align: right;\">\n",
       "      <th></th>\n",
       "      <th>Answer Cost</th>\n",
       "      <th>Total Seen States</th>\n",
       "      <th>Total Seperate Seen States</th>\n",
       "      <th>Execution Time</th>\n",
       "    </tr>\n",
       "  </thead>\n",
       "  <tbody>\n",
       "    <tr>\n",
       "      <th>BFS</th>\n",
       "      <td>33</td>\n",
       "      <td>140672</td>\n",
       "      <td>140672</td>\n",
       "      <td>3.23961</td>\n",
       "    </tr>\n",
       "    <tr>\n",
       "      <th>IDS</th>\n",
       "      <td>33</td>\n",
       "      <td>4593008</td>\n",
       "      <td>105105</td>\n",
       "      <td>152.494</td>\n",
       "    </tr>\n",
       "    <tr>\n",
       "      <th>A*Search</th>\n",
       "      <td>33</td>\n",
       "      <td>105787</td>\n",
       "      <td>105706</td>\n",
       "      <td>5.3254</td>\n",
       "    </tr>\n",
       "  </tbody>\n",
       "</table>\n",
       "</div>"
      ],
      "text/plain": [
       "         Answer Cost Total Seen States Total Seperate Seen States  \\\n",
       "BFS               33            140672                     140672   \n",
       "IDS               33           4593008                     105105   \n",
       "A*Search          33            105787                     105706   \n",
       "\n",
       "         Execution Time  \n",
       "BFS             3.23961  \n",
       "IDS             152.494  \n",
       "A*Search         5.3254  "
      ]
     },
     "execution_count": 22,
     "metadata": {},
     "output_type": "execute_result"
    }
   ],
   "source": [
    "all_tables[0]"
   ]
  },
  {
   "cell_type": "markdown",
   "metadata": {},
   "source": [
    "#### Testcase 2"
   ]
  },
  {
   "cell_type": "code",
   "execution_count": 23,
   "metadata": {},
   "outputs": [
    {
     "data": {
      "text/html": [
       "<div>\n",
       "<style scoped>\n",
       "    .dataframe tbody tr th:only-of-type {\n",
       "        vertical-align: middle;\n",
       "    }\n",
       "\n",
       "    .dataframe tbody tr th {\n",
       "        vertical-align: top;\n",
       "    }\n",
       "\n",
       "    .dataframe thead th {\n",
       "        text-align: right;\n",
       "    }\n",
       "</style>\n",
       "<table border=\"1\" class=\"dataframe\">\n",
       "  <thead>\n",
       "    <tr style=\"text-align: right;\">\n",
       "      <th></th>\n",
       "      <th>Answer Cost</th>\n",
       "      <th>Total Seen States</th>\n",
       "      <th>Total Seperate Seen States</th>\n",
       "      <th>Execution Time</th>\n",
       "    </tr>\n",
       "  </thead>\n",
       "  <tbody>\n",
       "    <tr>\n",
       "      <th>BFS</th>\n",
       "      <td>17</td>\n",
       "      <td>3226</td>\n",
       "      <td>3226</td>\n",
       "      <td>0.0696327</td>\n",
       "    </tr>\n",
       "    <tr>\n",
       "      <th>IDS</th>\n",
       "      <td>17</td>\n",
       "      <td>29157</td>\n",
       "      <td>318</td>\n",
       "      <td>0.760059</td>\n",
       "    </tr>\n",
       "    <tr>\n",
       "      <th>A*Search</th>\n",
       "      <td>17</td>\n",
       "      <td>1927</td>\n",
       "      <td>1923</td>\n",
       "      <td>0.0791834</td>\n",
       "    </tr>\n",
       "  </tbody>\n",
       "</table>\n",
       "</div>"
      ],
      "text/plain": [
       "         Answer Cost Total Seen States Total Seperate Seen States  \\\n",
       "BFS               17              3226                       3226   \n",
       "IDS               17             29157                        318   \n",
       "A*Search          17              1927                       1923   \n",
       "\n",
       "         Execution Time  \n",
       "BFS           0.0696327  \n",
       "IDS            0.760059  \n",
       "A*Search      0.0791834  "
      ]
     },
     "execution_count": 23,
     "metadata": {},
     "output_type": "execute_result"
    }
   ],
   "source": [
    "all_tables[1]"
   ]
  },
  {
   "cell_type": "markdown",
   "metadata": {},
   "source": [
    "#### Testcase 3"
   ]
  },
  {
   "cell_type": "code",
   "execution_count": 24,
   "metadata": {},
   "outputs": [
    {
     "data": {
      "text/html": [
       "<div>\n",
       "<style scoped>\n",
       "    .dataframe tbody tr th:only-of-type {\n",
       "        vertical-align: middle;\n",
       "    }\n",
       "\n",
       "    .dataframe tbody tr th {\n",
       "        vertical-align: top;\n",
       "    }\n",
       "\n",
       "    .dataframe thead th {\n",
       "        text-align: right;\n",
       "    }\n",
       "</style>\n",
       "<table border=\"1\" class=\"dataframe\">\n",
       "  <thead>\n",
       "    <tr style=\"text-align: right;\">\n",
       "      <th></th>\n",
       "      <th>Answer Cost</th>\n",
       "      <th>Total Seen States</th>\n",
       "      <th>Total Seperate Seen States</th>\n",
       "      <th>Execution Time</th>\n",
       "    </tr>\n",
       "  </thead>\n",
       "  <tbody>\n",
       "    <tr>\n",
       "      <th>BFS</th>\n",
       "      <td>20</td>\n",
       "      <td>2704</td>\n",
       "      <td>2704</td>\n",
       "      <td>0.0595206</td>\n",
       "    </tr>\n",
       "    <tr>\n",
       "      <th>IDS</th>\n",
       "      <td>20</td>\n",
       "      <td>45644</td>\n",
       "      <td>2652</td>\n",
       "      <td>1.24893</td>\n",
       "    </tr>\n",
       "    <tr>\n",
       "      <th>A*Search</th>\n",
       "      <td>20</td>\n",
       "      <td>1434</td>\n",
       "      <td>1434</td>\n",
       "      <td>0.0599507</td>\n",
       "    </tr>\n",
       "  </tbody>\n",
       "</table>\n",
       "</div>"
      ],
      "text/plain": [
       "         Answer Cost Total Seen States Total Seperate Seen States  \\\n",
       "BFS               20              2704                       2704   \n",
       "IDS               20             45644                       2652   \n",
       "A*Search          20              1434                       1434   \n",
       "\n",
       "         Execution Time  \n",
       "BFS           0.0595206  \n",
       "IDS             1.24893  \n",
       "A*Search      0.0599507  "
      ]
     },
     "execution_count": 24,
     "metadata": {},
     "output_type": "execute_result"
    }
   ],
   "source": [
    "all_tables[2]"
   ]
  },
  {
   "cell_type": "markdown",
   "metadata": {},
   "source": [
    "#### Testcase 4"
   ]
  },
  {
   "cell_type": "code",
   "execution_count": 25,
   "metadata": {},
   "outputs": [
    {
     "data": {
      "text/html": [
       "<div>\n",
       "<style scoped>\n",
       "    .dataframe tbody tr th:only-of-type {\n",
       "        vertical-align: middle;\n",
       "    }\n",
       "\n",
       "    .dataframe tbody tr th {\n",
       "        vertical-align: top;\n",
       "    }\n",
       "\n",
       "    .dataframe thead th {\n",
       "        text-align: right;\n",
       "    }\n",
       "</style>\n",
       "<table border=\"1\" class=\"dataframe\">\n",
       "  <thead>\n",
       "    <tr style=\"text-align: right;\">\n",
       "      <th></th>\n",
       "      <th>Answer Cost</th>\n",
       "      <th>Total Seen States</th>\n",
       "      <th>Total Seperate Seen States</th>\n",
       "      <th>Execution Time</th>\n",
       "    </tr>\n",
       "  </thead>\n",
       "  <tbody>\n",
       "    <tr>\n",
       "      <th>BFS</th>\n",
       "      <td>17</td>\n",
       "      <td>10624</td>\n",
       "      <td>10624</td>\n",
       "      <td>0.239029</td>\n",
       "    </tr>\n",
       "    <tr>\n",
       "      <th>IDS</th>\n",
       "      <td>17</td>\n",
       "      <td>81808</td>\n",
       "      <td>4069</td>\n",
       "      <td>2.40807</td>\n",
       "    </tr>\n",
       "    <tr>\n",
       "      <th>A*Search</th>\n",
       "      <td>17</td>\n",
       "      <td>3296</td>\n",
       "      <td>3292</td>\n",
       "      <td>0.137777</td>\n",
       "    </tr>\n",
       "  </tbody>\n",
       "</table>\n",
       "</div>"
      ],
      "text/plain": [
       "         Answer Cost Total Seen States Total Seperate Seen States  \\\n",
       "BFS               17             10624                      10624   \n",
       "IDS               17             81808                       4069   \n",
       "A*Search          17              3296                       3292   \n",
       "\n",
       "         Execution Time  \n",
       "BFS            0.239029  \n",
       "IDS             2.40807  \n",
       "A*Search       0.137777  "
      ]
     },
     "execution_count": 25,
     "metadata": {},
     "output_type": "execute_result"
    }
   ],
   "source": [
    "all_tables[3]"
   ]
  },
  {
   "cell_type": "markdown",
   "metadata": {},
   "source": [
    "#### Testcase 5"
   ]
  },
  {
   "cell_type": "code",
   "execution_count": 26,
   "metadata": {},
   "outputs": [
    {
     "data": {
      "text/html": [
       "<div>\n",
       "<style scoped>\n",
       "    .dataframe tbody tr th:only-of-type {\n",
       "        vertical-align: middle;\n",
       "    }\n",
       "\n",
       "    .dataframe tbody tr th {\n",
       "        vertical-align: top;\n",
       "    }\n",
       "\n",
       "    .dataframe thead th {\n",
       "        text-align: right;\n",
       "    }\n",
       "</style>\n",
       "<table border=\"1\" class=\"dataframe\">\n",
       "  <thead>\n",
       "    <tr style=\"text-align: right;\">\n",
       "      <th></th>\n",
       "      <th>Answer Cost</th>\n",
       "      <th>Total Seen States</th>\n",
       "      <th>Total Seperate Seen States</th>\n",
       "      <th>Execution Time</th>\n",
       "    </tr>\n",
       "  </thead>\n",
       "  <tbody>\n",
       "    <tr>\n",
       "      <th>BFS</th>\n",
       "      <td>13</td>\n",
       "      <td>359</td>\n",
       "      <td>359</td>\n",
       "      <td>0.00627438</td>\n",
       "    </tr>\n",
       "    <tr>\n",
       "      <th>IDS</th>\n",
       "      <td>13</td>\n",
       "      <td>2803</td>\n",
       "      <td>335</td>\n",
       "      <td>0.0657474</td>\n",
       "    </tr>\n",
       "    <tr>\n",
       "      <th>A*Search</th>\n",
       "      <td>13</td>\n",
       "      <td>205</td>\n",
       "      <td>205</td>\n",
       "      <td>0.00796707</td>\n",
       "    </tr>\n",
       "  </tbody>\n",
       "</table>\n",
       "</div>"
      ],
      "text/plain": [
       "         Answer Cost Total Seen States Total Seperate Seen States  \\\n",
       "BFS               13               359                        359   \n",
       "IDS               13              2803                        335   \n",
       "A*Search          13               205                        205   \n",
       "\n",
       "         Execution Time  \n",
       "BFS          0.00627438  \n",
       "IDS           0.0657474  \n",
       "A*Search     0.00796707  "
      ]
     },
     "execution_count": 26,
     "metadata": {},
     "output_type": "execute_result"
    }
   ],
   "source": [
    "all_tables[4]"
   ]
  },
  {
   "cell_type": "markdown",
   "metadata": {},
   "source": [
    "### Comparing Algorithms "
   ]
  },
  {
   "cell_type": "markdown",
   "metadata": {},
   "source": [
    "#### Optimality\n",
    "All of these algorithms return optimal answers. BFS is optimal because we move in depth. IDS is optimal too because we limit depth of DFS. In A* if we have an admissable and consistent heuristic, we can say it is an optimal algorithm. Here we have a heueristic with these charactrastics which proven above.  "
   ]
  },
  {
   "cell_type": "markdown",
   "metadata": {},
   "source": [
    "#### Time Complexity\n",
    "For `BFS` if we assume that we have b-ary tree of depth d time compelxity is number of nodes in that which is $O(b^d)$.\n",
    "\n",
    "For `IDS` Because of we have limited depth first search we should have time complexity of every itteration. So time complexity is $O((d+1)b^0 + d b^1 + (d-1)b^2 + … + b^d)$.\n",
    "\n",
    "For `A*Search` time complexity is number of nodes which heuristic expands. \n",
    "\n",
    "As you see in above tables time order is  $IDS \\gt A^* \\gt BFS$. Altough number of seen states is in $IDS \\gt BFS \\gt A^*$ but time of A* is a little more than bfs. it is because of **computing heuristic** overheads. For bigger maps which this overhead can be ignored we can say time of A* is less than BFS; on the other hand, IDS have a lot of more time complexity in this problem. Becasue we have a big depth for solotiouns. It is always slower than BFS and A*."
   ]
  },
  {
   "cell_type": "markdown",
   "metadata": {},
   "source": [
    "#### Space Complexity\n",
    "Space complexity of `BFS` is like it's time complexity which is number of it nodes. ( $O(b^d)$ ).\n",
    "\n",
    "`IDS` have less space for computing. It have an space complexity of $O(bd)$ and its why people use IDS instead of BFS.\n",
    "\n",
    "`A*` also like BFS have an exponential space comlexity but because of less nodes which seen in this algorithm we can say we hope it got less space. "
   ]
  },
  {
   "cell_type": "markdown",
   "metadata": {},
   "source": [
    "To sum up we can say here A* and BFS can be good answers for this problem. They have near time complexity and have less seen state. On the other hand I work on optimization of BFS more. At my first try BFS had more execution time and I started to change my data structures into string instead of 2d array. This move save a lot of time for me in BFS. If I had that matrix at first it may got more time to execute from A*. "
   ]
  },
  {
   "cell_type": "markdown",
   "metadata": {},
   "source": [
    "### Compare Plots"
   ]
  },
  {
   "cell_type": "code",
   "execution_count": 27,
   "metadata": {},
   "outputs": [],
   "source": [
    "bfs_data = [(table.loc['BFS']['Answer Cost'], table.loc['BFS']['Execution Time'], 'test' + str(i+1)) \n",
    "       for i, table in enumerate(all_tables)]\n",
    "ids_data = [(table.loc['IDS']['Answer Cost'], table.loc['IDS']['Execution Time'], 'test' + str(i+1)) \n",
    "       for i, table in enumerate(all_tables)]\n",
    "Astar_data = [(table.loc['A*Search']['Answer Cost'], table.loc['A*Search']['Execution Time'], 'test' + str(i+1)) \n",
    "       for i, table in enumerate(all_tables)]"
   ]
  },
  {
   "cell_type": "code",
   "execution_count": 29,
   "metadata": {},
   "outputs": [],
   "source": [
    "def plot_alg(data):\n",
    "    data.sort()\n",
    "    x = [i[0] for i in data]\n",
    "    y = [i[1] for i in data]\n",
    "    t = [i[2] for i in data]\n",
    "    plt.plot(x, y)\n",
    "    plt.xlabel(xlabel='Depth')\n",
    "    plt.ylabel(ylabel='Execution Time(s)')\n",
    "    for i in data :\n",
    "        plt.scatter(i[0], i[1], marker='x', color='r')\n",
    "        plt.text(i[0] + 0.1, i[1] +0.1, i[2], fontsize=8)"
   ]
  },
  {
   "cell_type": "code",
   "execution_count": 30,
   "metadata": {
    "scrolled": false
   },
   "outputs": [
    {
     "data": {
      "image/png": "[encoded data removed]",
      "text/plain": [
       "<Figure size 1440x792 with 3 Axes>"
      ]
     },
     "metadata": {},
     "output_type": "display_data"
    }
   ],
   "source": [
    "plt.figure(figsize=(20, 11))\n",
    "plt.subplot(131)\n",
    "plt.title('BFS')\n",
    "plot_alg(bfs_data)\n",
    "plt.subplot(132)\n",
    "plt.title('IDS')\n",
    "plot_alg(ids_data)\n",
    "plt.subplot(133)\n",
    "plt.title('A*Search')\n",
    "plot_alg(Astar_data)"
   ]
  }
 ],
 "metadata": {
  "file_extension": ".py",
  "kernelspec": {
   "display_name": "Python 3",
   "language": "python",
   "name": "python3"
  },
  "language_info": {
   "codemirror_mode": {
    "name": "ipython",
    "version": 3
   },
   "file_extension": ".py",
   "mimetype": "text/x-python",
   "name": "python",
   "nbconvert_exporter": "python",
   "pygments_lexer": "ipython3",
   "version": "3.7.5"
  },
  "mimetype": "text/x-python",
  "name": "python",
  "npconvert_exporter": "python",
  "pygments_lexer": "ipython3",
  "toc": {
   "base_numbering": 1,
   "nav_menu": {},
   "number_sections": true,
   "sideBar": true,
   "skip_h1_title": true,
   "title_cell": "Table of Contents",
   "title_sidebar": "Contents",
   "toc_cell": true,
   "toc_position": {
    "height": "657px",
    "left": "460px",
    "top": "110px",
    "width": "239px"
   },
   "toc_section_display": true,
   "toc_window_display": false
  },
  "varInspector": {
   "cols": {
    "lenName": 16,
    "lenType": 16,
    "lenVar": 40
   },
   "kernels_config": {
    "python": {
     "delete_cmd_postfix": "",
     "delete_cmd_prefix": "del ",
     "library": "var_list.py",
     "varRefreshCmd": "print(var_dic_list())"
    },
    "r": {
     "delete_cmd_postfix": ") ",
     "delete_cmd_prefix": "rm(",
     "library": "var_list.r",
     "varRefreshCmd": "cat(var_dic_list()) "
    }
   },
   "types_to_exclude": [
    "module",
    "function",
    "builtin_function_or_method",
    "instance",
    "_Feature"
   ],
   "window_display": false
  },
  "version": 3
 },
 "nbformat": 4,
 "nbformat_minor": 2
}
